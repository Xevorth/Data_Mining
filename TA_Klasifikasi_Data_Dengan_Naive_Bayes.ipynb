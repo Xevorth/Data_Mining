{
  "nbformat": 4,
  "nbformat_minor": 0,
  "metadata": {
    "colab": {
      "name": "Klasifikasi Data Dengan Naive Bayes.ipynb",
      "provenance": [],
      "collapsed_sections": []
    },
    "kernelspec": {
      "name": "python3",
      "display_name": "Python 3"
    },
    "language_info": {
      "name": "python"
    }
  },
  "cells": [
    {
      "cell_type": "code",
      "metadata": {
        "id": "iAMplj2bCwBH"
      },
      "source": [
        "import numpy as np\n",
        "import matplotlib.pyplot as plt\n",
        "import pandas as pd"
      ],
      "execution_count": 30,
      "outputs": []
    },
    {
      "cell_type": "code",
      "metadata": {
        "id": "caPOhGR7Ddvt"
      },
      "source": [
        "dataset = pd.read_csv(\"data_kelahiran.csv\")\n",
        "x = dataset.iloc[:, [3,6]].values\n",
        "y = dataset.iloc[:, -1].values"
      ],
      "execution_count": 31,
      "outputs": []
    },
    {
      "cell_type": "code",
      "metadata": {
        "id": "x9GwM5giESj9",
        "colab": {
          "base_uri": "https://localhost:8080/"
        },
        "outputId": "d7c5a94f-c6c2-49bd-b12f-0b5436ac1458"
      },
      "source": [
        "print(x)"
      ],
      "execution_count": 32,
      "outputs": [
        {
          "output_type": "stream",
          "text": [
            "[['KEPULAUAN SERIBU UTARA' 3]\n",
            " ['KEPULAUAN SERIBU UTARA' 1]\n",
            " ['KEPULAUAN SERIBU UTARA' 0]\n",
            " ...\n",
            " ['CIPAYUNG' 6]\n",
            " ['CIPAYUNG' 6]\n",
            " ['CIPAYUNG' 7]]\n"
          ],
          "name": "stdout"
        }
      ]
    },
    {
      "cell_type": "code",
      "metadata": {
        "colab": {
          "base_uri": "https://localhost:8080/"
        },
        "id": "Wj2W1jGCtkSk",
        "outputId": "d936e452-b4b7-4517-915e-628b951e164d"
      },
      "source": [
        "print(y)"
      ],
      "execution_count": 33,
      "outputs": [
        {
          "output_type": "stream",
          "text": [
            "[ 3  1  0  0  0  0  1  2  2  5  1  4  1  8  4  7 10  6  5  8  9  3  9  4\n",
            " 11  1  2  9  8  4  6  4 14 11  7 13  4  2  7  1  9  9  6  5  7  1  4  4\n",
            "  2  7 21  4 10 11 11  6 21 11  6  7 14 10  9  9 17  7 13  6 12 18 10 22\n",
            " 15 16 14 11 12 10  7 17 10 10 25 17 12 41 17  1  2  3  4  5 14 10  0 10\n",
            "  1  5  1  4  0  3  1  5  5  5  0  4  5  3  6  0  2 13 14 10  9 13 15  9\n",
            " 16 11  9  4 14  9  3  4  7 10  6 11  7  9 14  8  6  2  6  6 14  8  7 10\n",
            "  0  3  5  1 10  7  1  0  9  3  9  9  1  4  5  6 13 13  5 18  5 11 12 11\n",
            " 14 11  9  1 10  4  5  0  3  2  0  1  1  1  1  7  7  7 14  2  7  7  3 12\n",
            " 11  9 12  7  8 12 19 21  9 14  1  6  4  0  2 11 11  9 14  7 10 11  3  5\n",
            " 10  2  6 10 13 16 12  4 10  5  8 10  5 12  8 12  6 13 16 24 10 25  6 15\n",
            " 10 14 22 21 19 18  3 11  8 14  8 15  9 11 14 10 14  6 10  5  8  8  7  6\n",
            " 10 10  4  0  3  0  2  1  1  0  6  5  6  2  4  0  6  6  3  8  3 14  6  2\n",
            "  6  6  5  5  3  2 11  5  1  5  9 10  6  7  7  1  1  3  2  5  3  7  7  5\n",
            "  2  9  4  5  7 23  5  7  7 12  6 22 11  7 13 13 10  8 11 18  6  9 10  9\n",
            " 13  8 17  8 15 18  4  9  5  8 19  5 17 24  7  0 25  8  3  2  4  6  7  7\n",
            " 12  4  7  3  2  1  1  0  1  4  4  6  4  5  6  6  4 11  0  1 17 11 13  1\n",
            " 11  8  7 11  9 10  5  9 12  8  5  6 12  6 14  9  9 13  6  3  4  3  5  7\n",
            " 10  8 10  1  0  1  1  3 10  0  2  4  4 15  5  1  5  8  6  7 18  4  9 10\n",
            "  9 13  9  8  5  9  6  9  6  6  0  4  2  0  0  0  0  2  4  5  7  9  2  8\n",
            "  3  1 16  9 17 12 12 10  9 15 19 15 16  4  8  5  6  2  7 14 14  7  6 14\n",
            " 12  4  5  5  1  2  7 20  5 19 14 15  6 13  8  9 11 13  4 11 19  8 15  8\n",
            " 17 13 22  3 13 20 13 25 16 13  4  9 14  8 11  8  6 12 11  7 11  6  4  9\n",
            "  5  5  6  6  6  7]\n"
          ],
          "name": "stdout"
        }
      ]
    },
    {
      "cell_type": "code",
      "metadata": {
        "id": "pXVi53sKEtbj"
      },
      "source": [
        "from sklearn.model_selection import train_test_split\n",
        "x_train, x_test, y_train, y_test = train_test_split(x, y, test_size=0.25, random_state=0)"
      ],
      "execution_count": 34,
      "outputs": []
    },
    {
      "cell_type": "code",
      "metadata": {
        "id": "buGkni19Fgad"
      },
      "source": [
        "print(x_train)"
      ],
      "execution_count": null,
      "outputs": []
    },
    {
      "cell_type": "code",
      "metadata": {
        "id": "tck8Z8ruFo9M"
      },
      "source": [
        "print(x_test)"
      ],
      "execution_count": null,
      "outputs": []
    },
    {
      "cell_type": "code",
      "metadata": {
        "id": "C7QLjgLkFsEG"
      },
      "source": [
        "print(y_train)"
      ],
      "execution_count": null,
      "outputs": []
    },
    {
      "cell_type": "code",
      "metadata": {
        "id": "1XCskX8zFuS4"
      },
      "source": [
        "print(y_test)"
      ],
      "execution_count": null,
      "outputs": []
    },
    {
      "cell_type": "code",
      "metadata": {
        "id": "NYkbSzAuFw0Z"
      },
      "source": [
        "from sklearn.preprocessing import StandardScaler\n",
        "sc = StandardScaler()\n",
        "x_train = sc.fit_transform(x_train)\n",
        "x_test = sc.transform(x_test)"
      ],
      "execution_count": null,
      "outputs": []
    },
    {
      "cell_type": "code",
      "metadata": {
        "id": "Bp4_gGOvGh2i"
      },
      "source": [
        "print(x_train)"
      ],
      "execution_count": null,
      "outputs": []
    },
    {
      "cell_type": "code",
      "metadata": {
        "id": "DTZ82rNwGkZo"
      },
      "source": [
        "print(x_test)"
      ],
      "execution_count": null,
      "outputs": []
    },
    {
      "cell_type": "code",
      "metadata": {
        "id": "s7dnan8NHmZN"
      },
      "source": [
        "print(y_train)"
      ],
      "execution_count": null,
      "outputs": []
    },
    {
      "cell_type": "code",
      "metadata": {
        "id": "iOnBXSR9G0vm"
      },
      "source": [
        "from sklearn.naive_bayes import GaussianNB\n",
        "classifier = GaussianNB()\n",
        "classifier.fit(x_train, y_train)"
      ],
      "execution_count": null,
      "outputs": []
    },
    {
      "cell_type": "code",
      "metadata": {
        "id": "-WwAq9HhH4ZT"
      },
      "source": [
        "y_pred = classifier.predict(x_test)"
      ],
      "execution_count": null,
      "outputs": []
    },
    {
      "cell_type": "code",
      "metadata": {
        "id": "N_88twVOIDX6"
      },
      "source": [
        "from sklearn.metrics import confusion_matrix\n",
        "cm = confusion_matrix(y_test, y_pred)\n",
        "print(cm)"
      ],
      "execution_count": null,
      "outputs": []
    },
    {
      "cell_type": "code",
      "metadata": {
        "id": "zkfOdddqJAc0"
      },
      "source": [
        "from matplotlib.colors import ListedColormap\n",
        "x_set, y_set = x_train, y_train\n",
        "x1, x2 = np.meshgrid(np.arange(start = x_set[:, 0].min()-1, stop = x_set[:, 0].max() + 1, step=0.01),\n",
        "                     np.arange(start = x_set[:, 1].min()-1, stop = x_set[:, 0].max() + 1, step=0.01))\n",
        "plt.contourf(x1,x2, classifier.predict(np.array([x1.ravel(), x2.ravel()]).T).reshape(x1.shape),\n",
        "             alpha = 0.75, cmap = ListedColormap(('red', 'green')))\n",
        "plt.xlim(x1.min(), x1.max())\n",
        "plt.ylim(x2.min(), x2.max())\n",
        "for i, j in enumerate (np.unique(y_set)):\n",
        "  plt.scatter(x_set[y_set == j, 0], x_set[y_set == j, 1],\n",
        "              c = ListedColormap(('red', 'green'))(i), label = j)\n",
        "plt.title('Klasifikasi Data dengan Naive Bayes (Data Training)')\n",
        "plt.xlabel('jenis_kelamin')\n",
        "plt.ylabel('jumlah')\n",
        "plt.legend()\n",
        "plt.show()"
      ],
      "execution_count": null,
      "outputs": []
    },
    {
      "cell_type": "code",
      "metadata": {
        "id": "q5ZgcA8O1P1t"
      },
      "source": [
        "from matplotlib.colors import ListedColormap\n",
        "x_set, y_set = x_test, y_test\n",
        "x1, x2 = np.meshgrid(np.arange(start = x_set[:, 0].min()-1, stop = x_set[:, 0].max() + 1, step=0.01),\n",
        "                     np.arange(start = x_set[:, 1].min()-1, stop = x_set[:, 0].max() + 1, step=0.01))\n",
        "plt.contourf(x1,x2, classifier.predict(np.array([x1.ravel(), x2.ravel()]).T).reshape(x1.shape),\n",
        "             alpha = 0.75, cmap = ListedColormap(('red', 'green')))\n",
        "plt.xlim(x1.min(), x1.max())\n",
        "plt.ylim(x2.min(), x2.max())\n",
        "for i, j in enumerate (np.unique(y_set)):\n",
        "  plt.scatter(x_set[y_set == j, 0], x_set[y_set == j, 1],\n",
        "              c = ListedColormap(('red', 'green'))(i), label = j)\n",
        "plt.title('Klasifikasi Data dengan Naive Bayes (Data Testing)')\n",
        "plt.xlabel('jenis_kelamin')\n",
        "plt.ylabel('jumlah')\n",
        "plt.legend()\n",
        "plt.show()"
      ],
      "execution_count": null,
      "outputs": []
    }
  ]
}